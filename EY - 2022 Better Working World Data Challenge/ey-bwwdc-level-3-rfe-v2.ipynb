{
 "cells": [
  {
   "attachments": {},
   "cell_type": "markdown",
   "id": "609f450e",
   "metadata": {
    "papermill": {
     "duration": 0.00915,
     "end_time": "2022-06-04T07:13:24.540302",
     "exception": false,
     "start_time": "2022-06-04T07:13:24.531152",
     "status": "completed"
    },
    "tags": []
   },
   "source": [
    "# Libraries"
   ]
  },
  {
   "cell_type": "code",
   "execution_count": 1,
   "id": "63ab3d10",
   "metadata": {
    "execution": {
     "iopub.execute_input": "2022-06-04T07:13:24.556689Z",
     "iopub.status.busy": "2022-06-04T07:13:24.555460Z",
     "iopub.status.idle": "2022-06-04T07:14:11.073228Z",
     "shell.execute_reply": "2022-06-04T07:14:11.072322Z"
    },
    "papermill": {
     "duration": 46.528324,
     "end_time": "2022-06-04T07:14:11.075767",
     "exception": false,
     "start_time": "2022-06-04T07:13:24.547443",
     "status": "completed"
    },
    "tags": []
   },
   "outputs": [
    {
     "name": "stdout",
     "output_type": "stream",
     "text": [
      "Collecting zarr\r\n",
      "  Downloading zarr-2.11.3-py3-none-any.whl (153 kB)\r\n",
      "\u001b[2K     \u001b[90m━━━━━━━━━━━━━━━━━━━━━━━━━━━━━━━━━━━━━\u001b[0m \u001b[32m153.4/153.4 kB\u001b[0m \u001b[31m714.1 kB/s\u001b[0m eta \u001b[36m0:00:00\u001b[0m\r\n",
      "\u001b[?25hRequirement already satisfied: fasteners in /opt/conda/lib/python3.7/site-packages (from zarr) (0.17.3)\r\n",
      "Collecting asciitree\r\n",
      "  Downloading asciitree-0.3.3.tar.gz (4.0 kB)\r\n",
      "  Preparing metadata (setup.py) ... \u001b[?25l-\b \bdone\r\n",
      "\u001b[?25hRequirement already satisfied: numpy>=1.7 in /opt/conda/lib/python3.7/site-packages (from zarr) (1.21.6)\r\n",
      "Collecting numcodecs>=0.6.4\r\n",
      "  Downloading numcodecs-0.9.1-cp37-cp37m-manylinux2010_x86_64.whl (6.2 MB)\r\n",
      "\u001b[2K     \u001b[90m━━━━━━━━━━━━━━━━━━━━━━━━━━━━━━━━━━━━━━━━\u001b[0m \u001b[32m6.2/6.2 MB\u001b[0m \u001b[31m12.8 MB/s\u001b[0m eta \u001b[36m0:00:00\u001b[0m\r\n",
      "\u001b[?25hBuilding wheels for collected packages: asciitree\r\n",
      "  Building wheel for asciitree (setup.py) ... \u001b[?25l-\b \b\\\b \bdone\r\n",
      "\u001b[?25h  Created wheel for asciitree: filename=asciitree-0.3.3-py3-none-any.whl size=5050 sha256=29bf231bd6ebf52e3ff476f12cc28457d0ea9c90a10bacd8c54d410ef36650b8\r\n",
      "  Stored in directory: /root/.cache/pip/wheels/12/1c/38/0def51e15add93bff3f4bf9c248b94db0839b980b8535e72a0\r\n",
      "Successfully built asciitree\r\n",
      "Installing collected packages: asciitree, numcodecs, zarr\r\n",
      "Successfully installed asciitree-0.3.3 numcodecs-0.9.1 zarr-2.11.3\r\n",
      "\u001b[33mWARNING: Running pip as the 'root' user can result in broken permissions and conflicting behaviour with the system package manager. It is recommended to use a virtual environment instead: https://pip.pypa.io/warnings/venv\u001b[0m\u001b[33m\r\n",
      "\u001b[0mCollecting pystac\r\n",
      "  Downloading pystac-1.4.0-py3-none-any.whl (137 kB)\r\n",
      "\u001b[2K     \u001b[90m━━━━━━━━━━━━━━━━━━━━━━━━━━━━━━━━━━━━━\u001b[0m \u001b[32m137.4/137.4 kB\u001b[0m \u001b[31m659.5 kB/s\u001b[0m eta \u001b[36m0:00:00\u001b[0m\r\n",
      "\u001b[?25hRequirement already satisfied: python-dateutil>=2.7.0 in /opt/conda/lib/python3.7/site-packages (from pystac) (2.8.2)\r\n",
      "Requirement already satisfied: typing-extensions>=3.7 in /opt/conda/lib/python3.7/site-packages (from pystac) (4.2.0)\r\n",
      "Requirement already satisfied: six>=1.5 in /opt/conda/lib/python3.7/site-packages (from python-dateutil>=2.7.0->pystac) (1.16.0)\r\n",
      "Installing collected packages: pystac\r\n",
      "Successfully installed pystac-1.4.0\r\n",
      "\u001b[33mWARNING: Running pip as the 'root' user can result in broken permissions and conflicting behaviour with the system package manager. It is recommended to use a virtual environment instead: https://pip.pypa.io/warnings/venv\u001b[0m\u001b[33m\r\n",
      "\u001b[0mRequirement already satisfied: xarray[complete] in /opt/conda/lib/python3.7/site-packages (0.20.2)\r\n",
      "Requirement already satisfied: typing-extensions>=3.7 in /opt/conda/lib/python3.7/site-packages (from xarray[complete]) (4.2.0)\r\n",
      "Requirement already satisfied: pandas>=1.1 in /opt/conda/lib/python3.7/site-packages (from xarray[complete]) (1.3.5)\r\n",
      "Requirement already satisfied: numpy>=1.18 in /opt/conda/lib/python3.7/site-packages (from xarray[complete]) (1.21.6)\r\n",
      "Requirement already satisfied: importlib-metadata in /opt/conda/lib/python3.7/site-packages (from xarray[complete]) (4.11.4)\r\n",
      "Requirement already satisfied: dask[complete] in /opt/conda/lib/python3.7/site-packages (from xarray[complete]) (2022.2.0)\r\n",
      "Requirement already satisfied: rasterio in /opt/conda/lib/python3.7/site-packages (from xarray[complete]) (1.2.10)\r\n",
      "Requirement already satisfied: matplotlib in /opt/conda/lib/python3.7/site-packages (from xarray[complete]) (3.5.2)\r\n",
      "Requirement already satisfied: scipy in /opt/conda/lib/python3.7/site-packages (from xarray[complete]) (1.7.3)\r\n",
      "Collecting h5netcdf\r\n",
      "  Downloading h5netcdf-1.0.0-py2.py3-none-any.whl (24 kB)\r\n",
      "Collecting nc-time-axis\r\n",
      "  Downloading nc_time_axis-1.4.1-py3-none-any.whl (17 kB)\r\n",
      "Collecting bottleneck\r\n",
      "  Downloading Bottleneck-1.3.4-cp37-cp37m-manylinux_2_5_x86_64.manylinux1_x86_64.manylinux_2_24_x86_64.whl (332 kB)\r\n",
      "\u001b[2K     \u001b[90m━━━━━━━━━━━━━━━━━━━━━━━━━━━━━━━━━━━━━━━\u001b[0m \u001b[32m332.6/332.6 kB\u001b[0m \u001b[31m1.4 MB/s\u001b[0m eta \u001b[36m0:00:00\u001b[0m\r\n",
      "\u001b[?25hRequirement already satisfied: cftime in /opt/conda/lib/python3.7/site-packages (from xarray[complete]) (1.6.0)\r\n",
      "Collecting cfgrib\r\n",
      "  Downloading cfgrib-0.9.10.1-py3-none-any.whl (45 kB)\r\n",
      "\u001b[2K     \u001b[90m━━━━━━━━━━━━━━━━━━━━━━━━━━━━━━━━━━━━━━━━\u001b[0m \u001b[32m46.0/46.0 kB\u001b[0m \u001b[31m3.0 MB/s\u001b[0m eta \u001b[36m0:00:00\u001b[0m\r\n",
      "\u001b[?25hRequirement already satisfied: netCDF4 in /opt/conda/lib/python3.7/site-packages (from xarray[complete]) (1.5.8)\r\n",
      "Requirement already satisfied: pooch in /opt/conda/lib/python3.7/site-packages (from xarray[complete]) (1.6.0)\r\n",
      "Requirement already satisfied: seaborn in /opt/conda/lib/python3.7/site-packages (from xarray[complete]) (0.11.2)\r\n",
      "Collecting numbagg\r\n",
      "  Downloading numbagg-0.2.1-py2.py3-none-any.whl (18 kB)\r\n",
      "Collecting pydap\r\n",
      "  Downloading Pydap-3.2.2-py3-none-any.whl (2.3 MB)\r\n",
      "\u001b[2K     \u001b[90m━━━━━━━━━━━━━━━━━━━━━━━━━━━━━━━━━━━━━━━━\u001b[0m \u001b[32m2.3/2.3 MB\u001b[0m \u001b[31m9.5 MB/s\u001b[0m eta \u001b[36m0:00:00\u001b[0m\r\n",
      "\u001b[?25hRequirement already satisfied: fsspec in /opt/conda/lib/python3.7/site-packages (from xarray[complete]) (2022.5.0)\r\n",
      "Requirement already satisfied: zarr in /opt/conda/lib/python3.7/site-packages (from xarray[complete]) (2.11.3)\r\n",
      "Requirement already satisfied: python-dateutil>=2.7.3 in /opt/conda/lib/python3.7/site-packages (from pandas>=1.1->xarray[complete]) (2.8.2)\r\n",
      "Requirement already satisfied: pytz>=2017.3 in /opt/conda/lib/python3.7/site-packages (from pandas>=1.1->xarray[complete]) (2022.1)\r\n",
      "Requirement already satisfied: attrs>=19.2 in /opt/conda/lib/python3.7/site-packages (from cfgrib->xarray[complete]) (21.4.0)\r\n",
      "Requirement already satisfied: click in /opt/conda/lib/python3.7/site-packages (from cfgrib->xarray[complete]) (8.0.4)\r\n",
      "Collecting eccodes>=0.9.8\r\n",
      "  Downloading eccodes-1.4.2.tar.gz (55 kB)\r\n",
      "\u001b[2K     \u001b[90m━━━━━━━━━━━━━━━━━━━━━━━━━━━━━━━━━━━━━━━━\u001b[0m \u001b[32m55.2/55.2 kB\u001b[0m \u001b[31m3.6 MB/s\u001b[0m eta \u001b[36m0:00:00\u001b[0m\r\n",
      "\u001b[?25h  Preparing metadata (setup.py) ... \u001b[?25l-\b \bdone\r\n",
      "\u001b[?25hRequirement already satisfied: cloudpickle>=1.1.1 in /opt/conda/lib/python3.7/site-packages (from dask[complete]->xarray[complete]) (2.0.0)\r\n",
      "Requirement already satisfied: partd>=0.3.10 in /opt/conda/lib/python3.7/site-packages (from dask[complete]->xarray[complete]) (1.2.0)\r\n",
      "Requirement already satisfied: toolz>=0.8.2 in /opt/conda/lib/python3.7/site-packages (from dask[complete]->xarray[complete]) (0.11.2)\r\n",
      "Requirement already satisfied: pyyaml>=5.3.1 in /opt/conda/lib/python3.7/site-packages (from dask[complete]->xarray[complete]) (6.0)\r\n",
      "Requirement already satisfied: packaging>=20.0 in /opt/conda/lib/python3.7/site-packages (from dask[complete]->xarray[complete]) (21.3)\r\n",
      "Requirement already satisfied: distributed==2022.02.0 in /opt/conda/lib/python3.7/site-packages (from dask[complete]->xarray[complete]) (2022.2.0)\r\n",
      "Requirement already satisfied: jinja2 in /opt/conda/lib/python3.7/site-packages (from dask[complete]->xarray[complete]) (3.1.2)\r\n",
      "Requirement already satisfied: bokeh>=2.1.1 in /opt/conda/lib/python3.7/site-packages (from dask[complete]->xarray[complete]) (2.4.3)\r\n",
      "Requirement already satisfied: tornado>=5 in /opt/conda/lib/python3.7/site-packages (from distributed==2022.02.0->dask[complete]->xarray[complete]) (6.1)\r\n",
      "Requirement already satisfied: sortedcontainers!=2.0.0,!=2.0.1 in /opt/conda/lib/python3.7/site-packages (from distributed==2022.02.0->dask[complete]->xarray[complete]) (2.4.0)\r\n",
      "Requirement already satisfied: msgpack>=0.6.0 in /opt/conda/lib/python3.7/site-packages (from distributed==2022.02.0->dask[complete]->xarray[complete]) (1.0.3)\r\n",
      "Requirement already satisfied: tblib>=1.6.0 in /opt/conda/lib/python3.7/site-packages (from distributed==2022.02.0->dask[complete]->xarray[complete]) (1.7.0)\r\n",
      "Requirement already satisfied: psutil>=5.0 in /opt/conda/lib/python3.7/site-packages (from distributed==2022.02.0->dask[complete]->xarray[complete]) (5.9.0)\r\n",
      "Requirement already satisfied: setuptools in /opt/conda/lib/python3.7/site-packages (from distributed==2022.02.0->dask[complete]->xarray[complete]) (59.8.0)\r\n",
      "Requirement already satisfied: zict>=0.1.3 in /opt/conda/lib/python3.7/site-packages (from distributed==2022.02.0->dask[complete]->xarray[complete]) (2.2.0)\r\n",
      "Requirement already satisfied: h5py in /opt/conda/lib/python3.7/site-packages (from h5netcdf->xarray[complete]) (3.1.0)\r\n",
      "Requirement already satisfied: zipp>=0.5 in /opt/conda/lib/python3.7/site-packages (from importlib-metadata->xarray[complete]) (3.8.0)\r\n",
      "Requirement already satisfied: fonttools>=4.22.0 in /opt/conda/lib/python3.7/site-packages (from matplotlib->xarray[complete]) (4.33.3)\r\n",
      "Requirement already satisfied: pillow>=6.2.0 in /opt/conda/lib/python3.7/site-packages (from matplotlib->xarray[complete]) (9.1.0)\r\n",
      "Requirement already satisfied: pyparsing>=2.2.1 in /opt/conda/lib/python3.7/site-packages (from matplotlib->xarray[complete]) (3.0.9)\r\n",
      "Requirement already satisfied: cycler>=0.10 in /opt/conda/lib/python3.7/site-packages (from matplotlib->xarray[complete]) (0.11.0)\r\n",
      "Requirement already satisfied: kiwisolver>=1.0.1 in /opt/conda/lib/python3.7/site-packages (from matplotlib->xarray[complete]) (1.4.2)\r\n",
      "Requirement already satisfied: numba in /opt/conda/lib/python3.7/site-packages (from numbagg->xarray[complete]) (0.55.1)\r\n",
      "Requirement already satisfied: requests>=2.19.0 in /opt/conda/lib/python3.7/site-packages (from pooch->xarray[complete]) (2.27.1)\r\n",
      "Requirement already satisfied: appdirs>=1.3.0 in /opt/conda/lib/python3.7/site-packages (from pooch->xarray[complete]) (1.4.4)\r\n",
      "Requirement already satisfied: six>=1.4.0 in /opt/conda/lib/python3.7/site-packages (from pydap->xarray[complete]) (1.16.0)\r\n",
      "Requirement already satisfied: beautifulsoup4 in /opt/conda/lib/python3.7/site-packages (from pydap->xarray[complete]) (4.11.1)\r\n",
      "Collecting Webob\r\n",
      "  Downloading WebOb-1.8.7-py2.py3-none-any.whl (114 kB)\r\n",
      "\u001b[2K     \u001b[90m━━━━━━━━━━━━━━━━━━━━━━━━━━━━━━━━━━━━━━━\u001b[0m \u001b[32m115.0/115.0 kB\u001b[0m \u001b[31m6.6 MB/s\u001b[0m eta \u001b[36m0:00:00\u001b[0m\r\n",
      "\u001b[?25hRequirement already satisfied: docopt in /opt/conda/lib/python3.7/site-packages (from pydap->xarray[complete]) (0.6.2)\r\n",
      "Requirement already satisfied: affine in /opt/conda/lib/python3.7/site-packages (from rasterio->xarray[complete]) (2.3.1)\r\n",
      "Requirement already satisfied: click-plugins in /opt/conda/lib/python3.7/site-packages (from rasterio->xarray[complete]) (1.1.1)\r\n",
      "Requirement already satisfied: snuggs>=1.4.1 in /opt/conda/lib/python3.7/site-packages (from rasterio->xarray[complete]) (1.4.7)\r\n",
      "Requirement already satisfied: cligj>=0.5 in /opt/conda/lib/python3.7/site-packages (from rasterio->xarray[complete]) (0.7.2)\r\n",
      "Requirement already satisfied: certifi in /opt/conda/lib/python3.7/site-packages (from rasterio->xarray[complete]) (2022.5.18.1)\r\n",
      "Requirement already satisfied: asciitree in /opt/conda/lib/python3.7/site-packages (from zarr->xarray[complete]) (0.3.3)\r\n",
      "Requirement already satisfied: fasteners in /opt/conda/lib/python3.7/site-packages (from zarr->xarray[complete]) (0.17.3)\r\n",
      "Requirement already satisfied: numcodecs>=0.6.4 in /opt/conda/lib/python3.7/site-packages (from zarr->xarray[complete]) (0.9.1)\r\n",
      "Requirement already satisfied: cffi in /opt/conda/lib/python3.7/site-packages (from eccodes>=0.9.8->cfgrib->xarray[complete]) (1.15.0)\r\n",
      "Collecting findlibs\r\n",
      "  Downloading findlibs-0.0.2.tar.gz (6.2 kB)\r\n",
      "  Preparing metadata (setup.py) ... \u001b[?25l-\b \bdone\r\n",
      "\u001b[?25hRequirement already satisfied: MarkupSafe>=2.0 in /opt/conda/lib/python3.7/site-packages (from jinja2->dask[complete]->xarray[complete]) (2.0.1)\r\n",
      "Requirement already satisfied: locket in /opt/conda/lib/python3.7/site-packages (from partd>=0.3.10->dask[complete]->xarray[complete]) (1.0.0)\r\n",
      "Requirement already satisfied: idna<4,>=2.5 in /opt/conda/lib/python3.7/site-packages (from requests>=2.19.0->pooch->xarray[complete]) (3.3)\r\n",
      "Requirement already satisfied: charset-normalizer~=2.0.0 in /opt/conda/lib/python3.7/site-packages (from requests>=2.19.0->pooch->xarray[complete]) (2.0.12)\r\n",
      "Requirement already satisfied: urllib3<1.27,>=1.21.1 in /opt/conda/lib/python3.7/site-packages (from requests>=2.19.0->pooch->xarray[complete]) (1.26.9)\r\n",
      "Requirement already satisfied: soupsieve>1.2 in /opt/conda/lib/python3.7/site-packages (from beautifulsoup4->pydap->xarray[complete]) (2.3.1)\r\n",
      "Requirement already satisfied: cached-property in /opt/conda/lib/python3.7/site-packages (from h5py->h5netcdf->xarray[complete]) (1.5.2)\r\n",
      "Requirement already satisfied: llvmlite<0.39,>=0.38.0rc1 in /opt/conda/lib/python3.7/site-packages (from numba->numbagg->xarray[complete]) (0.38.0)\r\n",
      "Requirement already satisfied: heapdict in /opt/conda/lib/python3.7/site-packages (from zict>=0.1.3->distributed==2022.02.0->dask[complete]->xarray[complete]) (1.0.1)\r\n",
      "Requirement already satisfied: pycparser in /opt/conda/lib/python3.7/site-packages (from cffi->eccodes>=0.9.8->cfgrib->xarray[complete]) (2.21)\r\n",
      "Building wheels for collected packages: eccodes, findlibs\r\n",
      "  Building wheel for eccodes (setup.py) ... \u001b[?25l-\b \b\\\b \bdone\r\n",
      "\u001b[?25h  Created wheel for eccodes: filename=eccodes-1.4.2-py3-none-any.whl size=39817 sha256=d9ad42ed05834206f1f8432db98071feeddee12f3286b654400800f37d4381cc\r\n",
      "  Stored in directory: /root/.cache/pip/wheels/5a/c4/e7/37b9d4a30e03d404d4e2f9a280deea683d631f370384a7d500\r\n",
      "  Building wheel for findlibs (setup.py) ... \u001b[?25l-\b \bdone\r\n",
      "\u001b[?25h  Created wheel for findlibs: filename=findlibs-0.0.2-py3-none-any.whl size=6560 sha256=c6c00bfc33a3a8697b6f679dedb94767323231157761a88675b2b44c95c73047\r\n",
      "  Stored in directory: /root/.cache/pip/wheels/34/e9/92/2a09d5a307252d22fb8d99b13685144b0419d98c36dba7b1c0\r\n",
      "Successfully built eccodes findlibs\r\n",
      "Installing collected packages: findlibs, Webob, bottleneck, pydap, numbagg, h5netcdf, eccodes, nc-time-axis, cfgrib\r\n",
      "Successfully installed Webob-1.8.7 bottleneck-1.3.4 cfgrib-0.9.10.1 eccodes-1.4.2 findlibs-0.0.2 h5netcdf-1.0.0 nc-time-axis-1.4.1 numbagg-0.2.1 pydap-3.2.2\r\n",
      "\u001b[33mWARNING: Running pip as the 'root' user can result in broken permissions and conflicting behaviour with the system package manager. It is recommended to use a virtual environment instead: https://pip.pypa.io/warnings/venv\u001b[0m\u001b[33m\r\n",
      "\u001b[0m"
     ]
    }
   ],
   "source": [
    "!pip install zarr\n",
    "!pip install pystac\n",
    "!pip install xarray[complete]"
   ]
  },
  {
   "cell_type": "code",
   "execution_count": 2,
   "id": "cc51891a",
   "metadata": {
    "execution": {
     "iopub.execute_input": "2022-06-04T07:14:11.114256Z",
     "iopub.status.busy": "2022-06-04T07:14:11.113910Z",
     "iopub.status.idle": "2022-06-04T07:14:21.705640Z",
     "shell.execute_reply": "2022-06-04T07:14:21.704991Z"
    },
    "papermill": {
     "duration": 10.613557,
     "end_time": "2022-06-04T07:14:21.707549",
     "exception": false,
     "start_time": "2022-06-04T07:14:11.093992",
     "status": "completed"
    },
    "tags": []
   },
   "outputs": [
    {
     "name": "stderr",
     "output_type": "stream",
     "text": [
      "/opt/conda/lib/python3.7/site-packages/xarray/backends/cfgrib_.py:28: UserWarning: Failed to load cfgrib - most likely there is a problem accessing the ecCodes library. Try `import cfgrib` to get the full error message\n",
      "  \"Failed to load cfgrib - most likely there is a problem accessing the ecCodes library. \"\n"
     ]
    }
   ],
   "source": [
    "#Importing the necessary libraries\n",
    "import pandas as pd\n",
    "import pystac\n",
    "import fsspec\n",
    "import xarray as xr\n",
    "import datetime \n",
    "import numpy as np\n",
    "import math\n",
    "from tqdm import tqdm\n",
    "from datetime import date\n",
    "import pystac\n",
    "import itertools\n",
    "\n",
    "import matplotlib.pyplot as plt\n",
    "import seaborn as sns\n",
    "\n",
    "from sklearn.preprocessing import MinMaxScaler\n",
    "from sklearn.model_selection import train_test_split\n",
    "from sklearn.linear_model import LogisticRegression\n",
    "from sklearn.metrics import confusion_matrix,classification_report,ConfusionMatrixDisplay\n",
    "from sklearn import metrics\n",
    "from sklearn.metrics import r2_score\n",
    "\n",
    "from statsmodels.stats.outliers_influence import variance_inflation_factor\n",
    "\n",
    "from tensorflow.keras.models import Sequential\n",
    "from tensorflow.keras.layers import Dense, Dropout\n",
    "from tensorflow.keras.optimizers import Adam\n",
    "from tensorflow.keras.callbacks import ModelCheckpoint, EarlyStopping\n",
    "import tensorflow as tf\n",
    "import warnings\n",
    "import os\n",
    "import random\n",
    "\n",
    "warnings.filterwarnings(\"ignore\")\n",
    "\n",
    "pd.set_option('display.max_columns', 300)"
   ]
  },
  {
   "attachments": {},
   "cell_type": "markdown",
   "id": "17a50334",
   "metadata": {
    "papermill": {
     "duration": 0.010035,
     "end_time": "2022-06-04T07:14:21.728407",
     "exception": false,
     "start_time": "2022-06-04T07:14:21.718372",
     "status": "completed"
    },
    "tags": []
   },
   "source": [
    "# Data Processing"
   ]
  },
  {
   "cell_type": "code",
   "execution_count": 3,
   "id": "e3697922",
   "metadata": {
    "execution": {
     "iopub.execute_input": "2022-06-04T07:14:21.750744Z",
     "iopub.status.busy": "2022-06-04T07:14:21.749661Z",
     "iopub.status.idle": "2022-06-04T07:14:21.754751Z",
     "shell.execute_reply": "2022-06-04T07:14:21.754231Z"
    },
    "papermill": {
     "duration": 0.017747,
     "end_time": "2022-06-04T07:14:21.756334",
     "exception": false,
     "start_time": "2022-06-04T07:14:21.738587",
     "status": "completed"
    },
    "tags": []
   },
   "outputs": [],
   "source": [
    "def seed_everything(seed=2022):\n",
    "    random.seed(seed)\n",
    "    os.environ['PYTHONHASHSEED'] = str(seed)\n",
    "    np.random.seed(seed)\n",
    "    os.environ['TF_CUDNN_DETERMINISTIC'] = str(seed)\n",
    "    tf.random.set_seed(seed)\n",
    "    \n",
    "seed_everything(seed=2022)"
   ]
  },
  {
   "cell_type": "code",
   "execution_count": 4,
   "id": "c7ebec5c",
   "metadata": {
    "execution": {
     "iopub.execute_input": "2022-06-04T07:14:21.779526Z",
     "iopub.status.busy": "2022-06-04T07:14:21.779197Z",
     "iopub.status.idle": "2022-06-04T07:14:21.786036Z",
     "shell.execute_reply": "2022-06-04T07:14:21.784998Z"
    },
    "papermill": {
     "duration": 0.020715,
     "end_time": "2022-06-04T07:14:21.788099",
     "exception": false,
     "start_time": "2022-06-04T07:14:21.767384",
     "status": "completed"
    },
    "tags": []
   },
   "outputs": [],
   "source": [
    "columns = [\n",
    "        'gbifID','eventDate','country','continent','stateProvince',\n",
    "        'decimalLatitude','decimalLongitude','species'\n",
    "    ]\n",
    "country_names = {\n",
    "        'AU':'Australia', 'CR':'Costa Rica', 'ZA':'South Africa','MX':'Mexico','HN':'Honduras',\n",
    "        'MZ':'Mozambique','BW':'Botswana','MW':'Malawi','CO':'Colombia','PA':'Panama','NI':'Nicaragua',\n",
    "        'BZ':'Belize','ZW':'Zimbabwe','SZ':'Eswatini','ZM':'Zambia','GT':'Guatemala','LS':'Lesotho',\n",
    "        'SV':'El Salvador', 'AO':'Angola', np.nan:'unknown or invalid'\n",
    "    }\n",
    "continent_names = {\n",
    "    'AU':'Australia', 'CR':'Central America', 'ZA':'Africa','MX':'Central America','HN':'Central America',\n",
    "    'MZ':'Africa','BW':'Africa','MW':'Africa','CO':'Central America','PA':'Central America',\n",
    "    'NI':'Central America','BZ':'Central America','ZW':'Africa','SZ':'Africa','ZM':'Africa',\n",
    "    'GT':'Central America','LS':'Africa','SV':'Central America','AO':'Africa', np.nan:'unknown or invalid' \n",
    "}"
   ]
  },
  {
   "cell_type": "code",
   "execution_count": 5,
   "id": "07c6f67f",
   "metadata": {
    "execution": {
     "iopub.execute_input": "2022-06-04T07:14:21.810829Z",
     "iopub.status.busy": "2022-06-04T07:14:21.810456Z",
     "iopub.status.idle": "2022-06-04T07:14:34.294209Z",
     "shell.execute_reply": "2022-06-04T07:14:34.293589Z"
    },
    "papermill": {
     "duration": 12.498258,
     "end_time": "2022-06-04T07:14:34.296960",
     "exception": false,
     "start_time": "2022-06-04T07:14:21.798702",
     "status": "completed"
    },
    "tags": []
   },
   "outputs": [],
   "source": [
    "train = pd.read_csv(\"ey-bwwdc-level-3/occurrence.txt\", sep='\\t', parse_dates=['eventDate']).assign(\n",
    "            country =  lambda x: x.countryCode.map(country_names),\n",
    "            continent =  lambda x: x.countryCode.map(continent_names),\n",
    "            species = lambda x: x.species.str.title()\n",
    "        )[columns]\n",
    "\n",
    "train.dropna(inplace=True)\n",
    "train[\"occurrenceStatus\"] = \"PRESENT\"\n",
    "\n",
    "req_cols = ['eventDate', 'decimalLatitude','decimalLongitude','occurrenceStatus',\"stateProvince\"]\n",
    "train = train[req_cols]\n",
    "\n",
    "df_frog = train.copy()"
   ]
  },
  {
   "cell_type": "code",
   "execution_count": 6,
   "id": "8e1abc27",
   "metadata": {
    "execution": {
     "iopub.execute_input": "2022-06-04T07:14:34.335460Z",
     "iopub.status.busy": "2022-06-04T07:14:34.334908Z",
     "iopub.status.idle": "2022-06-04T07:14:35.156380Z",
     "shell.execute_reply": "2022-06-04T07:14:35.155470Z"
    },
    "papermill": {
     "duration": 0.842836,
     "end_time": "2022-06-04T07:14:35.158329",
     "exception": false,
     "start_time": "2022-06-04T07:14:34.315493",
     "status": "completed"
    },
    "tags": []
   },
   "outputs": [],
   "source": [
    "esri_aus = pd.read_csv(\"ey-bwwdc-level-3/output/ESRI_Data/ESRI_25sqkm_aus_FULL.csv\")\n",
    "esri_sa = pd.read_csv(\"ey-bwwdc-level-3/output/ESRI_Data/ESRI_25sqkm_sa.csv\")\n",
    "esri_cr = pd.read_csv(\"ey-bwwdc-level-3/output/ESRI_Data/ESRI_25sqkm_cr.csv\")\n",
    "esri_test = pd.read_csv(\"ey-bwwdc-level-3/output/ESRI_Data/test_ESRI_25sqkm.csv\")\n",
    "\n",
    "sentinel_aus = pd.read_csv(\"ey-bwwdc-level-3/output/Sentinel_2/full_aus_bbox_25sqkm_sentinel_2_features.csv\")\n",
    "sentinel_sa = pd.read_csv(\"ey-bwwdc-level-3/output/Sentinel_2/sa_gridbased_bbox_25sqkm_sentinel_2_features.csv\")\n",
    "sentinel_cr = pd.read_csv(\"ey-bwwdc-level-3/output/Sentinel_2/cr_gridbased_bbox_25sqkm_sentinel_2_features.csv\")\n",
    "sentinel_test = pd.read_csv(\"ey-bwwdc-level-3/output/Sentinel_2/test_gridbased_bbox_25sqkm_sentinel_2_features.csv\")\n",
    "\n",
    "terra_aus = pd.read_csv(\"ey-bwwdc-level-3/output/Terraclimate/Terraclimate_aus_grid_bbox_25sqkm.csv\")\n",
    "terra_sa = pd.read_csv(\"ey-bwwdc-level-3/output/Terraclimate/Terraclimate_sa_grid_bbox_25sqkm.csv\")\n",
    "terra_cr = pd.read_csv(\"ey-bwwdc-level-3/output/Terraclimate/Terraclimate_cr_grid_bbox_25sqkm.csv\")\n",
    "terra_test = pd.read_csv(\"ey-bwwdc-level-3/output/Terraclimate/Terraclimate_bbox_25sqkm_test.csv\")\n",
    "\n",
    "terra_test_2005 = pd.read_csv(\"ey-bwwdc-level-3/output/Terraclimate/Terraclimate_bbox_25sqkm_test_2005to2007.csv\")\n",
    "terra_test_2007 = pd.read_csv(\"ey-bwwdc-level-3/output/Terraclimate/Terraclimate_bbox_25sqkm_test_2007to2009.csv\")\n",
    "terra_test_2009 = pd.read_csv(\"ey-bwwdc-level-3/output/Terraclimate/Terraclimate_bbox_25sqkm_test_2009to2011.csv\")\n",
    "\n",
    "terra_test_2011 = pd.read_csv(\"ey-bwwdc-level-3/output/Terraclimate/Terraclimate_bbox_25sqkm_test_2011to2013.csv\")\n",
    "terra_test_2013 = pd.read_csv(\"ey-bwwdc-level-3/output/Terraclimate/Terraclimate_bbox_25sqkm_test_2013to2015.csv\")\n",
    "terra_test_2015 = pd.read_csv(\"ey-bwwdc-level-3/output/Terraclimate/Terraclimate_bbox_25sqkm_test_2015to2017.csv\")"
   ]
  },
  {
   "cell_type": "code",
   "execution_count": 7,
   "id": "82e7b05d",
   "metadata": {
    "execution": {
     "iopub.execute_input": "2022-06-04T07:14:35.182705Z",
     "iopub.status.busy": "2022-06-04T07:14:35.182247Z",
     "iopub.status.idle": "2022-06-04T07:14:35.225315Z",
     "shell.execute_reply": "2022-06-04T07:14:35.224317Z"
    },
    "papermill": {
     "duration": 0.058541,
     "end_time": "2022-06-04T07:14:35.227928",
     "exception": false,
     "start_time": "2022-06-04T07:14:35.169387",
     "status": "completed"
    },
    "tags": []
   },
   "outputs": [],
   "source": [
    "terra_test_2005 = terra_test[[\"Id\", 'min_lon', 'min_lat', 'max_lon', 'max_lat']].merge(terra_test_2005, on=['Id', 'min_lon', 'min_lat', 'max_lon', 'max_lat'], how='left')\n",
    "terra_test_2007 = terra_test[[\"Id\", 'min_lon', 'min_lat', 'max_lon', 'max_lat']].merge(terra_test_2007, on=['Id', 'min_lon', 'min_lat', 'max_lon', 'max_lat'], how='left')\n",
    "terra_test_2009 = terra_test[[\"Id\", 'min_lon', 'min_lat', 'max_lon', 'max_lat']].merge(terra_test_2009, on=['Id', 'min_lon', 'min_lat', 'max_lon', 'max_lat'], how='left')\n",
    "\n",
    "\n",
    "terra_test_2011 = terra_test[[\"Id\", 'min_lon', 'min_lat', 'max_lon', 'max_lat']].merge(terra_test_2011, on=['Id', 'min_lon', 'min_lat', 'max_lon', 'max_lat'], how='left')\n",
    "terra_test_2013 = terra_test[[\"Id\", 'min_lon', 'min_lat', 'max_lon', 'max_lat']].merge(terra_test_2013, on=['Id', 'min_lon', 'min_lat', 'max_lon', 'max_lat'], how='left')\n",
    "terra_test_2015 = terra_test[[\"Id\", 'min_lon', 'min_lat', 'max_lon', 'max_lat']].merge(terra_test_2015, on=['Id', 'min_lon', 'min_lat', 'max_lon', 'max_lat'], how='left')"
   ]
  },
  {
   "attachments": {},
   "cell_type": "markdown",
   "id": "c18d713b",
   "metadata": {
    "papermill": {
     "duration": 0.017714,
     "end_time": "2022-06-04T07:14:35.263550",
     "exception": false,
     "start_time": "2022-06-04T07:14:35.245836",
     "status": "completed"
    },
    "tags": []
   },
   "source": [
    "## Preparing Australia Dataset"
   ]
  },
  {
   "cell_type": "code",
   "execution_count": 8,
   "id": "3b44b0d6",
   "metadata": {
    "execution": {
     "iopub.execute_input": "2022-06-04T07:14:35.299673Z",
     "iopub.status.busy": "2022-06-04T07:14:35.299347Z",
     "iopub.status.idle": "2022-06-04T07:14:35.985902Z",
     "shell.execute_reply": "2022-06-04T07:14:35.985038Z"
    },
    "papermill": {
     "duration": 0.706508,
     "end_time": "2022-06-04T07:14:35.988016",
     "exception": false,
     "start_time": "2022-06-04T07:14:35.281508",
     "status": "completed"
    },
    "tags": []
   },
   "outputs": [
    {
     "name": "stdout",
     "output_type": "stream",
     "text": [
      "Size Before Filter : (72394, 14)\n",
      "Size After Filter : (72296, 14)\n"
     ]
    }
   ],
   "source": [
    "terra_aus_2005 = pd.read_csv(\"ey-bwwdc-level-3/output/Terraclimate/2005to2007_Terraclimate_aus_grid_bbox_25sqkm.csv\")\n",
    "terra_aus_2007 = pd.read_csv(\"ey-bwwdc-level-3/output/Terraclimate/2007to2009_Terraclimate_aus_grid_bbox_25sqkm.csv\")\n",
    "terra_aus_2009 = pd.read_csv(\"ey-bwwdc-level-3/output/Terraclimate/2009to2011_Terraclimate_aus_grid_bbox_25sqkm.csv\")\n",
    "\n",
    "terra_aus_2011 = pd.read_csv(\"ey-bwwdc-level-3/output/Terraclimate/2011to2013_Terraclimate_aus_grid_bbox_25sqkm.csv\")\n",
    "terra_aus_2013 = pd.read_csv(\"ey-bwwdc-level-3/output/Terraclimate/2013to2015_Terraclimate_aus_grid_bbox_25sqkm.csv\")\n",
    "terra_aus_2015 = pd.read_csv(\"ey-bwwdc-level-3/output/Terraclimate/2015to2017_Terraclimate_aus_grid_bbox_25sqkm.csv\")\n",
    "\n",
    "terra_aus_2005.fillna(terra_aus_2005.median(), inplace=True)\n",
    "terra_aus_2007.fillna(terra_aus_2007.median(), inplace=True)\n",
    "terra_aus_2009.fillna(terra_aus_2009.median(), inplace=True)\n",
    "\n",
    "terra_aus_2011.fillna(terra_aus_2011.median(), inplace=True)\n",
    "terra_aus_2013.fillna(terra_aus_2013.median(), inplace=True)\n",
    "terra_aus_2015.fillna(terra_aus_2015.median(), inplace=True)\n",
    "\n",
    "aus_alldate_terra = terra_aus.append(terra_aus_2011)\n",
    "aus_alldate_terra = aus_alldate_terra.append(terra_aus_2013)\n",
    "aus_alldate_terra = aus_alldate_terra.append(terra_aus_2015)\n",
    "\n",
    "aus_alldate_terra = aus_alldate_terra.append(terra_aus_2005)\n",
    "aus_alldate_terra = aus_alldate_terra.append(terra_aus_2007)\n",
    "aus_alldate_terra = aus_alldate_terra.append(terra_aus_2009)\n",
    "\n",
    "train_data_aus = aus_alldate_terra\n",
    "\n",
    "feat_cols = train_data_aus.columns[6:].tolist()\n",
    "feat_cols.extend([\"frog_count\"])\n",
    "remove_cols = [\"samples_count\", \"ppt_station_influence\",\"vap_station_influence\",\"tmax_station_influence\",\"tmin_station_influence\", 'swe', 'cover_rep']\n",
    "feat_cols = [i for i in feat_cols if i not in remove_cols]\n",
    "\n",
    "aus_train = train_data_aus[feat_cols]\n",
    "\n",
    "upper = 500\n",
    "print(\"Size Before Filter :\", aus_train.shape)\n",
    "aus_train = aus_train[(aus_train['frog_count'] <= upper)]\n",
    "print(\"Size After Filter :\", aus_train.shape)\n",
    "\n",
    "aus_train.fillna(aus_train.median(), inplace=True)"
   ]
  },
  {
   "attachments": {},
   "cell_type": "markdown",
   "id": "33ea408a",
   "metadata": {
    "papermill": {
     "duration": 0.017064,
     "end_time": "2022-06-04T07:14:36.022325",
     "exception": false,
     "start_time": "2022-06-04T07:14:36.005261",
     "status": "completed"
    },
    "tags": []
   },
   "source": [
    "## Preparing South Africa Dataset"
   ]
  },
  {
   "cell_type": "code",
   "execution_count": 9,
   "id": "57524da9",
   "metadata": {
    "execution": {
     "iopub.execute_input": "2022-06-04T07:14:36.059128Z",
     "iopub.status.busy": "2022-06-04T07:14:36.058240Z",
     "iopub.status.idle": "2022-06-04T07:14:36.199815Z",
     "shell.execute_reply": "2022-06-04T07:14:36.198926Z"
    },
    "papermill": {
     "duration": 0.162222,
     "end_time": "2022-06-04T07:14:36.202234",
     "exception": false,
     "start_time": "2022-06-04T07:14:36.040012",
     "status": "completed"
    },
    "tags": []
   },
   "outputs": [
    {
     "name": "stdout",
     "output_type": "stream",
     "text": [
      "Size Before Filter : (4690, 14)\n",
      "Size After Filter : (4690, 14)\n"
     ]
    }
   ],
   "source": [
    "terra_sa_2005 = pd.read_csv(\"ey-bwwdc-level-3/output/Terraclimate/2005to2007_Terraclimate_sa_grid_bbox_25sqkm.csv\")\n",
    "terra_sa_2007 = pd.read_csv(\"ey-bwwdc-level-3/output/Terraclimate/2007to2009_Terraclimate_sa_grid_bbox_25sqkm.csv\")\n",
    "terra_sa_2009 = pd.read_csv(\"ey-bwwdc-level-3/output/Terraclimate/2009to2011_Terraclimate_sa_grid_bbox_25sqkm.csv\")\n",
    "\n",
    "terra_sa_2011 = pd.read_csv(\"ey-bwwdc-level-3/output/Terraclimate/2011to2013_Terraclimate_sa_grid_bbox_25sqkm.csv\")\n",
    "terra_sa_2013 = pd.read_csv(\"ey-bwwdc-level-3/output/Terraclimate/2013to2015_Terraclimate_sa_grid_bbox_25sqkm.csv\")\n",
    "terra_sa_2015 = pd.read_csv(\"ey-bwwdc-level-3/output/Terraclimate/2015to2017_Terraclimate_sa_grid_bbox_25sqkm.csv\")\n",
    "\n",
    "terra_sa_2005.fillna(terra_sa_2005.median(), inplace=True)\n",
    "terra_sa_2007.fillna(terra_sa_2007.median(), inplace=True)\n",
    "terra_sa_2009.fillna(terra_sa_2009.median(), inplace=True)\n",
    "\n",
    "terra_sa_2011.fillna(terra_sa_2011.median(), inplace=True)\n",
    "terra_sa_2013.fillna(terra_sa_2013.median(), inplace=True)\n",
    "terra_sa_2015.fillna(terra_sa_2015.median(), inplace=True)\n",
    "\n",
    "sa_alldate_terra = terra_sa.append(terra_sa_2011)\n",
    "sa_alldate_terra = sa_alldate_terra.append(terra_sa_2013)\n",
    "sa_alldate_terra = sa_alldate_terra.append(terra_sa_2015)\n",
    "\n",
    "sa_alldate_terra = sa_alldate_terra.append(terra_sa_2005)\n",
    "sa_alldate_terra = sa_alldate_terra.append(terra_sa_2007)\n",
    "sa_alldate_terra = sa_alldate_terra.append(terra_sa_2009)\n",
    "\n",
    "train_data_sa = sa_alldate_terra\n",
    "\n",
    "feat_cols = train_data_sa.columns[6:].tolist()\n",
    "feat_cols.extend([\"frog_count\"])\n",
    "remove_cols = [\"samples_count\", \"ppt_station_influence\",\"vap_station_influence\",\"tmax_station_influence\",\"tmin_station_influence\", 'swe', 'cover_rep']\n",
    "feat_cols = [i for i in feat_cols if i not in remove_cols]\n",
    "\n",
    "sa_train = train_data_sa[feat_cols]\n",
    "\n",
    "\n",
    "upper = 500\n",
    "print(\"Size Before Filter :\", sa_train.shape)\n",
    "sa_train = sa_train[(sa_train['frog_count'] <= upper)]\n",
    "print(\"Size After Filter :\", sa_train.shape)\n",
    "\n",
    "sa_train.fillna(sa_train.median(), inplace=True)"
   ]
  },
  {
   "attachments": {},
   "cell_type": "markdown",
   "id": "8a3cc816",
   "metadata": {
    "papermill": {
     "duration": 0.016752,
     "end_time": "2022-06-04T07:14:36.236354",
     "exception": false,
     "start_time": "2022-06-04T07:14:36.219602",
     "status": "completed"
    },
    "tags": []
   },
   "source": [
    "## Preparing Costa Rica Dataset"
   ]
  },
  {
   "cell_type": "code",
   "execution_count": 10,
   "id": "0a3519d9",
   "metadata": {
    "execution": {
     "iopub.execute_input": "2022-06-04T07:14:36.271995Z",
     "iopub.status.busy": "2022-06-04T07:14:36.271696Z",
     "iopub.status.idle": "2022-06-04T07:14:36.583654Z",
     "shell.execute_reply": "2022-06-04T07:14:36.582297Z"
    },
    "papermill": {
     "duration": 0.33225,
     "end_time": "2022-06-04T07:14:36.585641",
     "exception": false,
     "start_time": "2022-06-04T07:14:36.253391",
     "status": "completed"
    },
    "tags": []
   },
   "outputs": [
    {
     "name": "stdout",
     "output_type": "stream",
     "text": [
      "Size Before Filter : (3815, 14)\n",
      "Size After Filter : (3808, 14)\n"
     ]
    }
   ],
   "source": [
    "terra_cr_2005 = pd.read_csv(\"ey-bwwdc-level-3/output/Terraclimate/2005to2007_Terraclimate_cr_grid_bbox_25sqkm.csv\")\n",
    "terra_cr_2007 = pd.read_csv(\"ey-bwwdc-level-3/output/Terraclimate/2007to2009_Terraclimate_cr_grid_bbox_25sqkm.csv\")\n",
    "terra_cr_2009 = pd.read_csv(\"ey-bwwdc-level-3/output/Terraclimate/2009to2011_Terraclimate_cr_grid_bbox_25sqkm.csv\")\n",
    "\n",
    "terra_cr_2011 = pd.read_csv(\"ey-bwwdc-level-3/output/Terraclimate/2011to2013_Terraclimate_cr_grid_bbox_25sqkm.csv\")\n",
    "terra_cr_2013 = pd.read_csv(\"ey-bwwdc-level-3/output/Terraclimate/2013to2015_Terraclimate_cr_grid_bbox_25sqkm.csv\")\n",
    "terra_cr_2015 = pd.read_csv(\"ey-bwwdc-level-3/output/Terraclimate/2015to2017_Terraclimate_cr_grid_bbox_25sqkm.csv\")\n",
    "\n",
    "terra_cr_2005.fillna(terra_cr_2005.median(), inplace=True)\n",
    "terra_cr_2007.fillna(terra_cr_2007.median(), inplace=True)\n",
    "terra_cr_2009.fillna(terra_cr_2009.median(), inplace=True)\n",
    "\n",
    "terra_cr_2011.fillna(terra_cr_2011.median(), inplace=True)\n",
    "terra_cr_2013.fillna(terra_cr_2013.median(), inplace=True)\n",
    "terra_cr_2015.fillna(terra_cr_2015.median(), inplace=True)\n",
    "\n",
    "cr_alldate_terra = terra_cr.append(terra_cr_2011)\n",
    "cr_alldate_terra = cr_alldate_terra.append(terra_cr_2013)\n",
    "cr_alldate_terra = cr_alldate_terra.append(terra_cr_2015)\n",
    "\n",
    "cr_alldate_terra = cr_alldate_terra.append(terra_cr_2005)\n",
    "cr_alldate_terra = cr_alldate_terra.append(terra_cr_2007)\n",
    "cr_alldate_terra = cr_alldate_terra.append(terra_cr_2009)\n",
    "\n",
    "train_data_cr = cr_alldate_terra\n",
    "\n",
    "feat_cols = train_data_cr.columns[6:].tolist()\n",
    "feat_cols.extend([\"frog_count\"])\n",
    "remove_cols = [\"samples_count\", \"ppt_station_influence\",\"vap_station_influence\",\"tmax_station_influence\",\"tmin_station_influence\", 'swe', 'cover_rep']\n",
    "feat_cols = [i for i in feat_cols if i not in remove_cols]\n",
    "\n",
    "cr_train = train_data_cr[feat_cols]\n",
    "\n",
    "upper = 100\n",
    "print(\"Size Before Filter :\", cr_train.shape)\n",
    "cr_train = cr_train[(cr_train['frog_count'] <= upper)]\n",
    "print(\"Size After Filter :\", cr_train.shape)\n",
    "\n",
    "cr_train.fillna(cr_train.median(), inplace=True)"
   ]
  },
  {
   "attachments": {},
   "cell_type": "markdown",
   "id": "ed3f103c",
   "metadata": {
    "papermill": {
     "duration": 0.010979,
     "end_time": "2022-06-04T07:14:36.607623",
     "exception": false,
     "start_time": "2022-06-04T07:14:36.596644",
     "status": "completed"
    },
    "tags": []
   },
   "source": [
    "## Feature Engineering (Simplified)"
   ]
  },
  {
   "cell_type": "code",
   "execution_count": 11,
   "id": "fd371ab4",
   "metadata": {
    "execution": {
     "iopub.execute_input": "2022-06-04T07:14:36.631531Z",
     "iopub.status.busy": "2022-06-04T07:14:36.631183Z",
     "iopub.status.idle": "2022-06-04T07:14:36.645452Z",
     "shell.execute_reply": "2022-06-04T07:14:36.644228Z"
    },
    "papermill": {
     "duration": 0.0293,
     "end_time": "2022-06-04T07:14:36.648176",
     "exception": false,
     "start_time": "2022-06-04T07:14:36.618876",
     "status": "completed"
    },
    "tags": []
   },
   "outputs": [],
   "source": [
    "aus_train[\"vap_vpd_diff\"] = aus_train[\"vap\"] - aus_train[\"vpd\"]\n",
    "sa_train[\"vap_vpd_diff\"] = sa_train[\"vap\"] - sa_train[\"vpd\"]\n",
    "cr_train[\"vap_vpd_diff\"] = cr_train[\"vap\"] - cr_train[\"vpd\"]\n",
    "\n",
    "aus_train[\"tmax_tmin_diff\"] = aus_train[\"tmax\"] - aus_train[\"tmin\"]\n",
    "sa_train[\"tmax_tmin_diff\"] = sa_train[\"tmax\"] - sa_train[\"tmin\"]\n",
    "cr_train[\"tmax_tmin_diff\"] = cr_train[\"tmax\"] - cr_train[\"tmin\"]\n",
    "\n",
    "aus_train.reset_index(drop=True, inplace=True)\n",
    "sa_train.reset_index(drop=True, inplace=True)\n",
    "cr_train.reset_index(drop=True, inplace=True)"
   ]
  },
  {
   "cell_type": "code",
   "execution_count": 12,
   "id": "9386610d",
   "metadata": {
    "execution": {
     "iopub.execute_input": "2022-06-04T07:14:36.687395Z",
     "iopub.status.busy": "2022-06-04T07:14:36.686630Z",
     "iopub.status.idle": "2022-06-04T07:14:36.693528Z",
     "shell.execute_reply": "2022-06-04T07:14:36.692404Z"
    },
    "papermill": {
     "duration": 0.029057,
     "end_time": "2022-06-04T07:14:36.695445",
     "exception": false,
     "start_time": "2022-06-04T07:14:36.666388",
     "status": "completed"
    },
    "tags": []
   },
   "outputs": [],
   "source": [
    "fold_store = {\n",
    "    \"fold_0\":{\n",
    "        \"aus\":[],\n",
    "        \"sa\":[],\n",
    "        \"cr\":[],\n",
    "    },\n",
    "    \"fold_1\":{\n",
    "        \"aus\":[],\n",
    "        \"sa\":[],\n",
    "        \"cr\":[],\n",
    "    },\n",
    "    \"fold_2\":{\n",
    "        \"aus\":[],\n",
    "        \"sa\":[],\n",
    "        \"cr\":[],\n",
    "    },\n",
    "    \"fold_3\":{\n",
    "        \"aus\":[],\n",
    "        \"sa\":[],\n",
    "        \"cr\":[],\n",
    "    },\n",
    "    \"fold_4\":{\n",
    "        \"aus\":[],\n",
    "        \"sa\":[],\n",
    "        \"cr\":[],\n",
    "    },\n",
    "}"
   ]
  },
  {
   "cell_type": "code",
   "execution_count": 13,
   "id": "6f01abb0",
   "metadata": {
    "execution": {
     "iopub.execute_input": "2022-06-04T07:14:36.732978Z",
     "iopub.status.busy": "2022-06-04T07:14:36.732657Z",
     "iopub.status.idle": "2022-06-04T07:14:36.759724Z",
     "shell.execute_reply": "2022-06-04T07:14:36.758771Z"
    },
    "papermill": {
     "duration": 0.047824,
     "end_time": "2022-06-04T07:14:36.761713",
     "exception": false,
     "start_time": "2022-06-04T07:14:36.713889",
     "status": "completed"
    },
    "tags": []
   },
   "outputs": [],
   "source": [
    "from sklearn.model_selection import KFold\n",
    "\n",
    "skf = KFold(n_splits=5, shuffle=True, random_state=2022)\n",
    "for i, (train_index, test_index) in enumerate(skf.split(aus_train.loc[:,[i for i in aus_train.columns if i != \"frog_count\"]], aus_train[\"frog_count\"])):\n",
    "    fold_store[f'fold_{i}'][\"aus\"].append(train_index)\n",
    "    fold_store[f'fold_{i}'][\"aus\"].append(test_index)\n",
    "    \n",
    "skf = KFold(n_splits=5, shuffle=True, random_state=2022)\n",
    "for i, (train_index, test_index) in enumerate(skf.split(sa_train.loc[:,[i for i in sa_train.columns if i != \"frog_count\"]], sa_train[\"frog_count\"])):\n",
    "    fold_store[f'fold_{i}'][\"sa\"].append(train_index)\n",
    "    fold_store[f'fold_{i}'][\"sa\"].append(test_index)\n",
    "    \n",
    "skf = KFold(n_splits=5, shuffle=True, random_state=2022)\n",
    "for i, (train_index, test_index) in enumerate(skf.split(cr_train.loc[:,[i for i in cr_train.columns if i != \"frog_count\"]], cr_train[\"frog_count\"])):\n",
    "    fold_store[f'fold_{i}'][\"cr\"].append(train_index)\n",
    "    fold_store[f'fold_{i}'][\"cr\"].append(test_index)"
   ]
  },
  {
   "cell_type": "code",
   "execution_count": 14,
   "id": "624cbc01",
   "metadata": {
    "execution": {
     "iopub.execute_input": "2022-06-04T07:14:36.786536Z",
     "iopub.status.busy": "2022-06-04T07:14:36.786219Z",
     "iopub.status.idle": "2022-06-04T07:14:36.791189Z",
     "shell.execute_reply": "2022-06-04T07:14:36.789923Z"
    },
    "papermill": {
     "duration": 0.0207,
     "end_time": "2022-06-04T07:14:36.794081",
     "exception": false,
     "start_time": "2022-06-04T07:14:36.773381",
     "status": "completed"
    },
    "tags": []
   },
   "outputs": [],
   "source": [
    "feature_columns = [i for i in aus_train.columns if i != \"frog_count\"]"
   ]
  },
  {
   "cell_type": "code",
   "execution_count": 15,
   "id": "40845ae3",
   "metadata": {
    "execution": {
     "iopub.execute_input": "2022-06-04T07:14:36.832606Z",
     "iopub.status.busy": "2022-06-04T07:14:36.832230Z",
     "iopub.status.idle": "2022-06-04T07:14:36.840572Z",
     "shell.execute_reply": "2022-06-04T07:14:36.839475Z"
    },
    "papermill": {
     "duration": 0.031396,
     "end_time": "2022-06-04T07:14:36.844043",
     "exception": false,
     "start_time": "2022-06-04T07:14:36.812647",
     "status": "completed"
    },
    "tags": []
   },
   "outputs": [
    {
     "name": "stdout",
     "output_type": "stream",
     "text": [
      "Number of Feature Columns : 15\n"
     ]
    },
    {
     "data": {
      "text/plain": [
       "['aet',\n",
       " 'def',\n",
       " 'pdsi',\n",
       " 'pet',\n",
       " 'ppt',\n",
       " 'q',\n",
       " 'soil',\n",
       " 'srad',\n",
       " 'tmax',\n",
       " 'tmin',\n",
       " 'vap',\n",
       " 'vpd',\n",
       " 'ws',\n",
       " 'vap_vpd_diff',\n",
       " 'tmax_tmin_diff']"
      ]
     },
     "execution_count": 15,
     "metadata": {},
     "output_type": "execute_result"
    }
   ],
   "source": [
    "print(\"Number of Feature Columns :\", len(feature_columns))\n",
    "feature_columns"
   ]
  },
  {
   "cell_type": "code",
   "execution_count": 16,
   "id": "f078af41",
   "metadata": {
    "execution": {
     "iopub.execute_input": "2022-06-04T07:14:36.882533Z",
     "iopub.status.busy": "2022-06-04T07:14:36.882037Z",
     "iopub.status.idle": "2022-06-04T07:14:36.886385Z",
     "shell.execute_reply": "2022-06-04T07:14:36.884845Z"
    },
    "papermill": {
     "duration": 0.026089,
     "end_time": "2022-06-04T07:14:36.888582",
     "exception": false,
     "start_time": "2022-06-04T07:14:36.862493",
     "status": "completed"
    },
    "tags": []
   },
   "outputs": [],
   "source": [
    "default_mae = 8.89176"
   ]
  },
  {
   "cell_type": "code",
   "execution_count": 17,
   "id": "333fdd66",
   "metadata": {
    "execution": {
     "iopub.execute_input": "2022-06-04T07:14:36.928744Z",
     "iopub.status.busy": "2022-06-04T07:14:36.928385Z",
     "iopub.status.idle": "2022-06-04T11:55:18.784650Z",
     "shell.execute_reply": "2022-06-04T11:55:18.783157Z"
    },
    "papermill": {
     "duration": 16841.904148,
     "end_time": "2022-06-04T11:55:18.811373",
     "exception": false,
     "start_time": "2022-06-04T07:14:36.907225",
     "status": "completed"
    },
    "tags": []
   },
   "outputs": [
    {
     "name": "stderr",
     "output_type": "stream",
     "text": [
      "  0%|          | 0/15 [00:00<?, ?it/s]2022-06-04 07:14:37.019164: I tensorflow/core/common_runtime/process_util.cc:146] Creating new thread pool with default inter op setting: 2. Tune using inter_op_parallelism_threads for best performance.\n",
      "2022-06-04 07:14:37.203211: I tensorflow/compiler/mlir/mlir_graph_optimization_pass.cc:185] None of the MLIR Optimization Passes are enabled (registered 2)\n",
      "100%|██████████| 15/15 [4:40:41<00:00, 1122.79s/it]"
     ]
    },
    {
     "name": "stdout",
     "output_type": "stream",
     "text": [
      "Best MAE : 8.932607650756836\n",
      "Feature Scores : [9.10444164276123, 9.071843147277832, 9.394257545471191, 9.026945114135742, 9.137739181518555, 8.932607650756836, 9.416275978088379, 9.25903034210205, 9.030893325805664, 9.009032249450684, 9.096464157104492, 9.158926963806152, 9.45474624633789, 9.024264335632324, 9.443633079528809]\n",
      "RFE Done\n",
      "!!!!!!!!!!!!!!!!!!!!!!!!!!\n",
      "Final Columns Length : 15\n",
      "Final Columns : ['aet', 'def', 'pdsi', 'pet', 'ppt', 'q', 'soil', 'srad', 'tmax', 'tmin', 'vap', 'vpd', 'ws', 'vap_vpd_diff', 'tmax_tmin_diff']\n"
     ]
    },
    {
     "name": "stderr",
     "output_type": "stream",
     "text": [
      "\n"
     ]
    }
   ],
   "source": [
    "from tqdm import tqdm\n",
    "for _ in range(3):\n",
    "    mae_store = []\n",
    "    for feature in tqdm(feature_columns, position=0, leave=True):\n",
    "        temp_feat = feature_columns.copy()\n",
    "        temp_feat.remove(feature)\n",
    "#         print(f\"Starting Fold 0\")\n",
    "#         print(\"===========================\")\n",
    "        X_train_aus, y_train_aus = aus_train.loc[fold_store[f\"fold_0\"][\"aus\"][0], temp_feat], aus_train.loc[fold_store[f\"fold_0\"][\"aus\"][0], \"frog_count\"]\n",
    "        X_test_aus, y_test_aus = aus_train.loc[fold_store[f\"fold_0\"][\"aus\"][1], temp_feat], aus_train.loc[fold_store[f\"fold_0\"][\"aus\"][1], \"frog_count\"]\n",
    "\n",
    "        X_train_sa, y_train_sa = sa_train.loc[fold_store[f\"fold_0\"][\"sa\"][0], temp_feat], sa_train.loc[fold_store[f\"fold_0\"][\"sa\"][0], \"frog_count\"]\n",
    "        X_test_sa, y_test_sa = sa_train.loc[fold_store[f\"fold_0\"][\"sa\"][1], temp_feat], sa_train.loc[fold_store[f\"fold_0\"][\"sa\"][1], \"frog_count\"]\n",
    "\n",
    "        X_train_cr, y_train_cr = cr_train.loc[fold_store[f\"fold_0\"][\"cr\"][0], temp_feat], cr_train.loc[fold_store[f\"fold_0\"][\"cr\"][0], \"frog_count\"]\n",
    "        X_test_cr, y_test_cr = cr_train.loc[fold_store[f\"fold_0\"][\"cr\"][1], temp_feat], cr_train.loc[fold_store[f\"fold_0\"][\"cr\"][1], \"frog_count\"]\n",
    "\n",
    "        X_train = X_train_aus.append(X_train_sa)\n",
    "        X_train = X_train.append(X_train_cr)\n",
    "\n",
    "        X_test = X_test_aus.append(X_test_sa)\n",
    "        X_test = X_test.append(X_test_cr)\n",
    "\n",
    "        y_train = y_train_aus.append(y_train_sa)\n",
    "        y_train = y_train.append(y_train_cr)\n",
    "\n",
    "        y_test = y_test_aus.append(y_test_sa)\n",
    "        y_test = y_test.append(y_test_cr)\n",
    "#         print(X_train.shape)\n",
    "#         print(X_test.shape)\n",
    "\n",
    "\n",
    "        from tensorflow.keras.models import Sequential\n",
    "        from tensorflow.keras.layers import Dense, Dropout\n",
    "        from tensorflow.keras.optimizers import Adam\n",
    "        from tensorflow.keras.callbacks import ModelCheckpoint, EarlyStopping\n",
    "        from sklearn.preprocessing import MinMaxScaler\n",
    "\n",
    "        # Data normalization using Minmaxscaler\n",
    "        mm_scaler = MinMaxScaler()\n",
    "        X_train_mm = mm_scaler.fit_transform(X_train)\n",
    "        X_test_mm = mm_scaler.transform(X_test)\n",
    "\n",
    "        import tensorflow as tf\n",
    "        import tensorflow.keras.backend as K\n",
    "\n",
    "        # Model checkpoint\n",
    "        checkpoint = ModelCheckpoint(filepath=f'aus_terra_2005_to_present_fold_0.hdf5',\n",
    "                                     monitor='val_loss',verbose=0,save_weights_only=True,save_best_only=True,mode='min')\n",
    "\n",
    "        # model architecture for ANN model\n",
    "        model = Sequential()\n",
    "        # model.add(Dense(512, activation=\"relu\", input_dim=len(X_train_mm[0])))\n",
    "        model.add(Dense(256, activation=\"relu\", input_dim=len(X_train_mm[0])))\n",
    "        model.add(Dense(128, activation=\"relu\"))\n",
    "        model.add(Dense(64, activation=\"relu\"))\n",
    "        model.add(Dense(64, activation=\"relu\"))\n",
    "        model.add(Dense(64, activation=\"relu\"))\n",
    "        model.add(Dense(16, activation=\"relu\"))\n",
    "        model.add(Dense(8, activation=\"relu\"))\n",
    "        model.add(Dense(1, activation=\"linear\"))\n",
    "\n",
    "\n",
    "        model.compile(optimizer = \"adam\", loss = 'mean_absolute_error')\n",
    "\n",
    "        # Patient early stopping\n",
    "        es = EarlyStopping(monitor='val_loss', mode='min', verbose=0, patience=50)\n",
    "#         print(\"Training Model ...\")\n",
    "        # Fitting the model on train data\n",
    "        history = model.fit(X_train_mm, y_train, validation_data=(X_test_mm, y_test), epochs=1000, batch_size=128,\n",
    "                            verbose=0, callbacks=[es,checkpoint])\n",
    "#         print(\"Training Complete ...\")\n",
    "\n",
    "        mae_store.append(history.history['val_loss'][-1])\n",
    "    \n",
    "    print(\"Best MAE :\", min(mae_store))\n",
    "    print(\"Feature Scores :\", mae_store)\n",
    "    \n",
    "    if min(mae_store) >= default_mae:\n",
    "        print(\"RFE Done\")\n",
    "        print(\"!!!!!!!!!!!!!!!!!!!!!!!!!!\")\n",
    "        break\n",
    "    else:\n",
    "        default_mae = min(mae_store)\n",
    "        print(f\"Dropping {feature_columns[mae_store.index(min(mae_store))]} Column\")\n",
    "        feature_columns.pop(mae_store.index(min(mae_store)))\n",
    "        \n",
    "print(\"Final Columns Length :\", len(feature_columns))\n",
    "print(\"Final Columns :\", feature_columns)"
   ]
  },
  {
   "cell_type": "code",
   "execution_count": 18,
   "id": "a1629b44",
   "metadata": {
    "execution": {
     "iopub.execute_input": "2022-06-04T11:55:18.863245Z",
     "iopub.status.busy": "2022-06-04T11:55:18.862776Z",
     "iopub.status.idle": "2022-06-04T11:55:18.869311Z",
     "shell.execute_reply": "2022-06-04T11:55:18.868600Z"
    },
    "papermill": {
     "duration": 0.034264,
     "end_time": "2022-06-04T11:55:18.871917",
     "exception": false,
     "start_time": "2022-06-04T11:55:18.837653",
     "status": "completed"
    },
    "tags": []
   },
   "outputs": [
    {
     "data": {
      "text/plain": [
       "[9.10444164276123,\n",
       " 9.071843147277832,\n",
       " 9.394257545471191,\n",
       " 9.026945114135742,\n",
       " 9.137739181518555,\n",
       " 8.932607650756836,\n",
       " 9.416275978088379,\n",
       " 9.25903034210205,\n",
       " 9.030893325805664,\n",
       " 9.009032249450684,\n",
       " 9.096464157104492,\n",
       " 9.158926963806152,\n",
       " 9.45474624633789,\n",
       " 9.024264335632324,\n",
       " 9.443633079528809]"
      ]
     },
     "execution_count": 18,
     "metadata": {},
     "output_type": "execute_result"
    }
   ],
   "source": [
    "mae_store"
   ]
  },
  {
   "cell_type": "code",
   "execution_count": 19,
   "id": "84203bdd",
   "metadata": {
    "execution": {
     "iopub.execute_input": "2022-06-04T11:55:18.914273Z",
     "iopub.status.busy": "2022-06-04T11:55:18.913465Z",
     "iopub.status.idle": "2022-06-04T11:55:18.919961Z",
     "shell.execute_reply": "2022-06-04T11:55:18.918833Z"
    },
    "papermill": {
     "duration": 0.030517,
     "end_time": "2022-06-04T11:55:18.922324",
     "exception": false,
     "start_time": "2022-06-04T11:55:18.891807",
     "status": "completed"
    },
    "tags": []
   },
   "outputs": [],
   "source": [
    "feat_imp = [i-default_mae for i in mae_store]"
   ]
  },
  {
   "cell_type": "code",
   "execution_count": 20,
   "id": "77a7c738",
   "metadata": {
    "execution": {
     "iopub.execute_input": "2022-06-04T11:55:18.954820Z",
     "iopub.status.busy": "2022-06-04T11:55:18.953476Z",
     "iopub.status.idle": "2022-06-04T11:55:19.250116Z",
     "shell.execute_reply": "2022-06-04T11:55:19.249367Z"
    },
    "papermill": {
     "duration": 0.314926,
     "end_time": "2022-06-04T11:55:19.252431",
     "exception": false,
     "start_time": "2022-06-04T11:55:18.937505",
     "status": "completed"
    },
    "tags": []
   },
   "outputs": [
    {
     "data": {
      "image/png": "[encoded data removed]",
      "text/plain": [
       "<Figure size 432x288 with 1 Axes>"
      ]
     },
     "metadata": {
      "needs_background": "light"
     },
     "output_type": "display_data"
    }
   ],
   "source": [
    "plt.bar(feature_columns, height=feat_imp)\n",
    "plt.xticks(rotation=90)\n",
    "plt.show()"
   ]
  },
  {
   "cell_type": "code",
   "execution_count": 21,
   "id": "d034934c",
   "metadata": {
    "execution": {
     "iopub.execute_input": "2022-06-04T11:55:19.281702Z",
     "iopub.status.busy": "2022-06-04T11:55:19.280969Z",
     "iopub.status.idle": "2022-06-04T11:55:19.287074Z",
     "shell.execute_reply": "2022-06-04T11:55:19.286618Z"
    },
    "papermill": {
     "duration": 0.02221,
     "end_time": "2022-06-04T11:55:19.288696",
     "exception": false,
     "start_time": "2022-06-04T11:55:19.266486",
     "status": "completed"
    },
    "tags": []
   },
   "outputs": [
    {
     "data": {
      "text/plain": [
       "['aet',\n",
       " 'def',\n",
       " 'pdsi',\n",
       " 'pet',\n",
       " 'ppt',\n",
       " 'q',\n",
       " 'soil',\n",
       " 'srad',\n",
       " 'tmax',\n",
       " 'tmin',\n",
       " 'vap',\n",
       " 'vpd',\n",
       " 'ws',\n",
       " 'vap_vpd_diff',\n",
       " 'tmax_tmin_diff']"
      ]
     },
     "execution_count": 21,
     "metadata": {},
     "output_type": "execute_result"
    }
   ],
   "source": [
    "feature_columns"
   ]
  },
  {
   "cell_type": "code",
   "execution_count": null,
   "id": "2043b3bb",
   "metadata": {
    "papermill": {
     "duration": 0.012916,
     "end_time": "2022-06-04T11:55:19.314518",
     "exception": false,
     "start_time": "2022-06-04T11:55:19.301602",
     "status": "completed"
    },
    "tags": []
   },
   "outputs": [],
   "source": []
  }
 ],
 "metadata": {
  "kernelspec": {
   "display_name": "Python 3",
   "language": "python",
   "name": "python3"
  },
  "language_info": {
   "codemirror_mode": {
    "name": "ipython",
    "version": 3
   },
   "file_extension": ".py",
   "mimetype": "text/x-python",
   "name": "python",
   "nbconvert_exporter": "python",
   "pygments_lexer": "ipython3",
   "version": "3.7.12"
  },
  "papermill": {
   "default_parameters": {},
   "duration": 16928.070505,
   "end_time": "2022-06-04T11:55:22.761115",
   "environment_variables": {},
   "exception": null,
   "input_path": "__notebook__.ipynb",
   "output_path": "__notebook__.ipynb",
   "parameters": {},
   "start_time": "2022-06-04T07:13:14.690610",
   "version": "2.3.4"
  }
 },
 "nbformat": 4,
 "nbformat_minor": 5
}
